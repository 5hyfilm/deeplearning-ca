{
  "nbformat": 4,
  "nbformat_minor": 0,
  "metadata": {
    "accelerator": "GPU",
    "colab": {
      "name": "binary_squeezenet_nb.ipynb",
      "provenance": [],
      "collapsed_sections": [],
      "machine_shape": "hm",
      "include_colab_link": true
    },
    "kernelspec": {
      "display_name": "Python 3",
      "name": "python3"
    }
  },
  "cells": [
    {
      "cell_type": "markdown",
      "metadata": {
        "id": "view-in-github",
        "colab_type": "text"
      },
      "source": [
        "<a href=\"https://colab.research.google.com/github/5hyfilm/deeplearning-ca/blob/main/binary_squeezenet_nb.ipynb\" target=\"_parent\"><img src=\"https://colab.research.google.com/assets/colab-badge.svg\" alt=\"Open In Colab\"/></a>"
      ]
    },
    {
      "cell_type": "markdown",
      "metadata": {
        "id": "RINOG_5H-9IS"
      },
      "source": [
        "# Check GPU"
      ]
    },
    {
      "cell_type": "code",
      "metadata": {
        "colab": {
          "base_uri": "https://localhost:8080/"
        },
        "id": "MswTOFVD9PRU",
        "outputId": "9cc19561-75c5-4c9d-8599-d2692ea430bd"
      },
      "source": [
        "!nvidia-smi"
      ],
      "execution_count": null,
      "outputs": [
        {
          "output_type": "stream",
          "text": [
            "Tue Jul 20 10:51:19 2021       \n",
            "+-----------------------------------------------------------------------------+\n",
            "| NVIDIA-SMI 470.42.01    Driver Version: 460.32.03    CUDA Version: 11.2     |\n",
            "|-------------------------------+----------------------+----------------------+\n",
            "| GPU  Name        Persistence-M| Bus-Id        Disp.A | Volatile Uncorr. ECC |\n",
            "| Fan  Temp  Perf  Pwr:Usage/Cap|         Memory-Usage | GPU-Util  Compute M. |\n",
            "|                               |                      |               MIG M. |\n",
            "|===============================+======================+======================|\n",
            "|   0  Tesla P4            Off  | 00000000:00:04.0 Off |                    0 |\n",
            "| N/A   39C    P8     7W /  75W |      0MiB /  7611MiB |      0%      Default |\n",
            "|                               |                      |                  N/A |\n",
            "+-------------------------------+----------------------+----------------------+\n",
            "                                                                               \n",
            "+-----------------------------------------------------------------------------+\n",
            "| Processes:                                                                  |\n",
            "|  GPU   GI   CI        PID   Type   Process name                  GPU Memory |\n",
            "|        ID   ID                                                   Usage      |\n",
            "|=============================================================================|\n",
            "|  No running processes found                                                 |\n",
            "+-----------------------------------------------------------------------------+\n"
          ],
          "name": "stdout"
        }
      ]
    },
    {
      "cell_type": "markdown",
      "metadata": {
        "id": "zJO_QzGJ_AV5"
      },
      "source": [
        "# Import Libraries"
      ]
    },
    {
      "cell_type": "code",
      "metadata": {
        "id": "R_IjxTB8-7n7"
      },
      "source": [
        "import tensorflow as tf\n",
        "from tensorflow import keras\n",
        "from tensorflow.keras import backend as K\n",
        "from tensorflow.keras import models\n",
        "from tensorflow.keras.models import Sequential, Model\n",
        "from tensorflow.keras.layers import Conv2D, MaxPooling2D, Dense, Dropout, Activation, Flatten, BatchNormalization, GlobalAveragePooling2D\n",
        "from tensorflow.keras.preprocessing import image\n",
        "from tensorflow.keras.preprocessing.image import ImageDataGenerator, load_img, img_to_array\n",
        "from tensorflow.keras.applications.imagenet_utils import preprocess_input\n",
        "from tensorflow.keras.optimizers import Adam\n",
        "from tensorflow.keras.callbacks import ModelCheckpoint, EarlyStopping, ReduceLROnPlateau\n",
        "from tensorflow.keras import regularizers\n",
        "\n",
        "from sklearn.model_selection import train_test_split\n",
        "from sklearn.utils import class_weight, compute_sample_weight, compute_class_weight\n",
        "from sklearn.metrics import balanced_accuracy_score, classification_report, confusion_matrix\n",
        "\n",
        "import pandas as pd\n",
        "import numpy as np\n",
        "import os\n",
        "import shutil\n",
        "import math\n",
        "import itertools\n",
        "from PIL import Image\n",
        "from matplotlib import pyplot as plt\n",
        "import seaborn as sns\n",
        "import json\n",
        "import cv2"
      ],
      "execution_count": null,
      "outputs": []
    },
    {
      "cell_type": "code",
      "metadata": {
        "id": "MHSgpNBY_JuB"
      },
      "source": [
        "tf.compat.v1.disable_eager_execution()"
      ],
      "execution_count": null,
      "outputs": []
    },
    {
      "cell_type": "markdown",
      "metadata": {
        "id": "bXdVqDW-_XhC"
      },
      "source": [
        "# Data Preparation"
      ]
    },
    {
      "cell_type": "code",
      "metadata": {
        "colab": {
          "base_uri": "https://localhost:8080/"
        },
        "id": "tDDcIJz2_Lop",
        "outputId": "ac9ae28f-a858-4f44-a022-e0220066f22f"
      },
      "source": [
        "!git clone https://github.com/5HYFILM-DATA/deeplearning-ca-dataset-2"
      ],
      "execution_count": null,
      "outputs": [
        {
          "output_type": "stream",
          "text": [
            "Cloning into 'deeplearning-ca-dataset-2'...\n",
            "remote: Enumerating objects: 1816, done.\u001b[K\n",
            "remote: Counting objects: 100% (15/15), done.\u001b[K\n",
            "remote: Compressing objects: 100% (10/10), done.\u001b[K\n",
            "remote: Total 1816 (delta 5), reused 15 (delta 5), pack-reused 1801\u001b[K\n",
            "Receiving objects: 100% (1816/1816), 1.01 GiB | 39.75 MiB/s, done.\n",
            "Resolving deltas: 100% (8/8), done.\n",
            "Checking out files: 100% (3312/3312), done.\n"
          ],
          "name": "stdout"
        }
      ]
    },
    {
      "cell_type": "code",
      "metadata": {
        "id": "n88IezBZxtFn"
      },
      "source": [
        "model_name = 'binary_squeezenet'\n",
        "base = '/content/deeplearning-ca-dataset-2'\n",
        "base_data = os.path.join(base, 'data_for_train')\n",
        "base_output = os.path.join(model_name + '_output', model_name + '_result')\n",
        "\n",
        "dataset_types = ['train', 'test', 'validate']\n",
        "categories = ['cancerpmd', 'normal']"
      ],
      "execution_count": null,
      "outputs": []
    },
    {
      "cell_type": "code",
      "metadata": {
        "id": "xWnFNQwix5Mf"
      },
      "source": [
        "if not os.path.exists(base_data):\n",
        "    os.makedirs(base_data, exist_ok=True)\n",
        "if not os.path.exists(base_output):\n",
        "    os.makedirs(base_output, exist_ok=True)"
      ],
      "execution_count": null,
      "outputs": []
    },
    {
      "cell_type": "code",
      "metadata": {
        "id": "OX3U5pDFx9ox"
      },
      "source": [
        "datasets = {dataset_type:[] for dataset_type in dataset_types}\n",
        "for category in categories:\n",
        "    df = pd.read_json(os.path.join(base, 'dataset_{}_augment.json'.format(category)))\n",
        "    for dataset_type in dataset_types:\n",
        "        datasets[dataset_type].append(df[df['type']==dataset_type])\n",
        "\n",
        "for dataset_type in datasets:\n",
        "    df = pd.concat(datasets[dataset_type])\n",
        "    df['file_name'] = base+\"/image/\"+df['category']+\"/\"+df['file_name']\n",
        "    datasets[dataset_type] = df"
      ],
      "execution_count": null,
      "outputs": []
    },
    {
      "cell_type": "code",
      "metadata": {
        "id": "oZGD-ED9_k98"
      },
      "source": [
        "train_aug = ImageDataGenerator(rescale=1./255)\n",
        "\n",
        "val_aug = ImageDataGenerator(rescale=1./255)\n",
        "\n",
        "test_aug = ImageDataGenerator(rescale=1./255)"
      ],
      "execution_count": null,
      "outputs": []
    },
    {
      "cell_type": "markdown",
      "metadata": {
        "id": "oprBHG9W_EJ6"
      },
      "source": [
        "## Hyperparameters"
      ]
    },
    {
      "cell_type": "code",
      "metadata": {
        "id": "_GlgYxS9_Fg_"
      },
      "source": [
        "IMG_WIDTH = 224\n",
        "IMG_HEIGHT = 224\n",
        "EPOCHS = 100\n",
        "BATCH_SIZE = 32\n",
        "LR = 1e-5 # Learning rate"
      ],
      "execution_count": null,
      "outputs": []
    },
    {
      "cell_type": "code",
      "metadata": {
        "colab": {
          "base_uri": "https://localhost:8080/"
        },
        "id": "3ClIhYYQ_rdG",
        "outputId": "723f076a-d7e1-4066-c5ba-b2b89bcc1ab9"
      },
      "source": [
        "train_generator = train_aug.flow_from_dataframe(datasets['train'],\n",
        "                                                x_col='file_name',\n",
        "                                                y_col='category',\n",
        "                                                target_size=(IMG_WIDTH, IMG_HEIGHT), \n",
        "                                                batch_size=BATCH_SIZE, \n",
        "                                                shuffle=True,\n",
        "                                                class_mode='sparse') \n",
        "\n",
        "val_generator = val_aug.flow_from_dataframe(datasets['validate'],\n",
        "                                                x_col='file_name',\n",
        "                                                y_col='category',\n",
        "                                                target_size=(IMG_WIDTH, IMG_HEIGHT), \n",
        "                                                batch_size=BATCH_SIZE, \n",
        "                                                shuffle=True,\n",
        "                                                class_mode='sparse') \n",
        "\n",
        "test_generator = test_aug.flow_from_dataframe(datasets['test'],\n",
        "                                                x_col='file_name',\n",
        "                                                y_col='category',\n",
        "                                                target_size=(IMG_WIDTH, IMG_HEIGHT), \n",
        "                                                batch_size=1, \n",
        "                                                shuffle=False,\n",
        "                                                class_mode='sparse')"
      ],
      "execution_count": null,
      "outputs": [
        {
          "output_type": "stream",
          "text": [
            "Found 1360 validated image filenames belonging to 2 classes.\n",
            "Found 196 validated image filenames belonging to 2 classes.\n",
            "Found 392 validated image filenames belonging to 2 classes.\n"
          ],
          "name": "stdout"
        }
      ]
    },
    {
      "cell_type": "code",
      "metadata": {
        "id": "rdh6bINJYc7Z"
      },
      "source": [
        "NUM_CLASSES = len(train_generator.class_indices)"
      ],
      "execution_count": null,
      "outputs": []
    },
    {
      "cell_type": "markdown",
      "metadata": {
        "id": "-BMO2kcPIQQ5"
      },
      "source": [
        "# Model"
      ]
    },
    {
      "cell_type": "markdown",
      "metadata": {
        "id": "QEwDXXgtIWw_"
      },
      "source": [
        "## Build Model"
      ]
    },
    {
      "cell_type": "code",
      "metadata": {
        "id": "sPic1uTaQdso"
      },
      "source": [
        "def fire(x, squeeze, expand):\n",
        "  y  = tf.keras.layers.Conv2D(filters=squeeze, kernel_size=1, activation='relu', padding='same', kernel_regularizer=regularizers.l2(0.01))(x)\n",
        "  y = tf.keras.layers.BatchNormalization(momentum=bnmomemtum)(y)\n",
        "  y1 = tf.keras.layers.Conv2D(filters=expand//2, kernel_size=1, activation='relu', padding='same', kernel_regularizer=regularizers.l2(0.01))(y) \n",
        "  y1 = tf.keras.layers.BatchNormalization(momentum=bnmomemtum)(y1)\n",
        "  y3 = tf.keras.layers.Conv2D(filters=expand//2, kernel_size=3, activation='relu', padding='same', kernel_regularizer=regularizers.l2(0.01))(y)\n",
        "  y3 = tf.keras.layers.BatchNormalization(momentum=bnmomemtum)(y3)\n",
        "  return tf.keras.layers.concatenate([y1, y3])\n",
        "\n",
        "def fire_module(squeeze, expand):\n",
        "  return lambda x: fire(x, squeeze, expand)"
      ],
      "execution_count": null,
      "outputs": []
    },
    {
      "cell_type": "code",
      "metadata": {
        "id": "3t2MkgbE6KHd"
      },
      "source": [
        "bnmomemtum=0.9"
      ],
      "execution_count": null,
      "outputs": []
    },
    {
      "cell_type": "code",
      "metadata": {
        "id": "k1s7ofCg6DhL",
        "colab": {
          "base_uri": "https://localhost:8080/"
        },
        "outputId": "678054e0-4e15-4d1a-918f-ec32cd8675a0"
      },
      "source": [
        "x = tf.keras.layers.Input(shape=[IMG_HEIGHT, IMG_WIDTH, 3]) # input is 224x224 pixels RGB\n",
        "\n",
        "y = tf.keras.layers.Conv2D(kernel_size=3, filters=32, padding='same', use_bias=True, activation='relu')(x)\n",
        "y = tf.keras.layers.BatchNormalization(momentum=bnmomemtum)(y)\n",
        "y = fire_module(24, 48)(y)\n",
        "y = tf.keras.layers.MaxPooling2D(pool_size=2)(y)\n",
        "y = fire_module(48, 96)(y)\n",
        "y = tf.keras.layers.MaxPooling2D(pool_size=2)(y)\n",
        "y = fire_module(64, 128)(y)\n",
        "y = tf.keras.layers.MaxPooling2D(pool_size=2)(y)\n",
        "y = fire_module(48, 96)(y)\n",
        "y = tf.keras.layers.MaxPooling2D(pool_size=2)(y)\n",
        "y = fire_module(24, 48)(y)\n",
        "y = tf.keras.layers.GlobalAveragePooling2D()(y)\n",
        "y = tf.keras.layers.Dense(NUM_CLASSES, activation='softmax')(y)"
      ],
      "execution_count": null,
      "outputs": [
        {
          "output_type": "stream",
          "text": [
            "WARNING:tensorflow:From /usr/local/lib/python3.7/dist-packages/tensorflow/python/keras/layers/normalization.py:534: _colocate_with (from tensorflow.python.framework.ops) is deprecated and will be removed in a future version.\n",
            "Instructions for updating:\n",
            "Colocations handled automatically by placer.\n"
          ],
          "name": "stdout"
        }
      ]
    },
    {
      "cell_type": "code",
      "metadata": {
        "id": "3Pa3-YJ75pH2"
      },
      "source": [
        "model = tf.keras.Model(x, y)"
      ],
      "execution_count": null,
      "outputs": []
    },
    {
      "cell_type": "code",
      "metadata": {
        "colab": {
          "base_uri": "https://localhost:8080/"
        },
        "id": "wyYWzhj-EBYt",
        "outputId": "df9e45d5-43cd-4051-8745-12868d9ced74"
      },
      "source": [
        "model.summary()"
      ],
      "execution_count": null,
      "outputs": [
        {
          "output_type": "stream",
          "text": [
            "Model: \"model\"\n",
            "__________________________________________________________________________________________________\n",
            "Layer (type)                    Output Shape         Param #     Connected to                     \n",
            "==================================================================================================\n",
            "input_1 (InputLayer)            [(None, 224, 224, 3) 0                                            \n",
            "__________________________________________________________________________________________________\n",
            "conv2d (Conv2D)                 (None, 224, 224, 32) 896         input_1[0][0]                    \n",
            "__________________________________________________________________________________________________\n",
            "batch_normalization (BatchNorma (None, 224, 224, 32) 128         conv2d[0][0]                     \n",
            "__________________________________________________________________________________________________\n",
            "conv2d_1 (Conv2D)               (None, 224, 224, 24) 792         batch_normalization[0][0]        \n",
            "__________________________________________________________________________________________________\n",
            "batch_normalization_1 (BatchNor (None, 224, 224, 24) 96          conv2d_1[0][0]                   \n",
            "__________________________________________________________________________________________________\n",
            "conv2d_2 (Conv2D)               (None, 224, 224, 24) 600         batch_normalization_1[0][0]      \n",
            "__________________________________________________________________________________________________\n",
            "conv2d_3 (Conv2D)               (None, 224, 224, 24) 5208        batch_normalization_1[0][0]      \n",
            "__________________________________________________________________________________________________\n",
            "batch_normalization_2 (BatchNor (None, 224, 224, 24) 96          conv2d_2[0][0]                   \n",
            "__________________________________________________________________________________________________\n",
            "batch_normalization_3 (BatchNor (None, 224, 224, 24) 96          conv2d_3[0][0]                   \n",
            "__________________________________________________________________________________________________\n",
            "concatenate (Concatenate)       (None, 224, 224, 48) 0           batch_normalization_2[0][0]      \n",
            "                                                                 batch_normalization_3[0][0]      \n",
            "__________________________________________________________________________________________________\n",
            "max_pooling2d (MaxPooling2D)    (None, 112, 112, 48) 0           concatenate[0][0]                \n",
            "__________________________________________________________________________________________________\n",
            "conv2d_4 (Conv2D)               (None, 112, 112, 48) 2352        max_pooling2d[0][0]              \n",
            "__________________________________________________________________________________________________\n",
            "batch_normalization_4 (BatchNor (None, 112, 112, 48) 192         conv2d_4[0][0]                   \n",
            "__________________________________________________________________________________________________\n",
            "conv2d_5 (Conv2D)               (None, 112, 112, 48) 2352        batch_normalization_4[0][0]      \n",
            "__________________________________________________________________________________________________\n",
            "conv2d_6 (Conv2D)               (None, 112, 112, 48) 20784       batch_normalization_4[0][0]      \n",
            "__________________________________________________________________________________________________\n",
            "batch_normalization_5 (BatchNor (None, 112, 112, 48) 192         conv2d_5[0][0]                   \n",
            "__________________________________________________________________________________________________\n",
            "batch_normalization_6 (BatchNor (None, 112, 112, 48) 192         conv2d_6[0][0]                   \n",
            "__________________________________________________________________________________________________\n",
            "concatenate_1 (Concatenate)     (None, 112, 112, 96) 0           batch_normalization_5[0][0]      \n",
            "                                                                 batch_normalization_6[0][0]      \n",
            "__________________________________________________________________________________________________\n",
            "max_pooling2d_1 (MaxPooling2D)  (None, 56, 56, 96)   0           concatenate_1[0][0]              \n",
            "__________________________________________________________________________________________________\n",
            "conv2d_7 (Conv2D)               (None, 56, 56, 64)   6208        max_pooling2d_1[0][0]            \n",
            "__________________________________________________________________________________________________\n",
            "batch_normalization_7 (BatchNor (None, 56, 56, 64)   256         conv2d_7[0][0]                   \n",
            "__________________________________________________________________________________________________\n",
            "conv2d_8 (Conv2D)               (None, 56, 56, 64)   4160        batch_normalization_7[0][0]      \n",
            "__________________________________________________________________________________________________\n",
            "conv2d_9 (Conv2D)               (None, 56, 56, 64)   36928       batch_normalization_7[0][0]      \n",
            "__________________________________________________________________________________________________\n",
            "batch_normalization_8 (BatchNor (None, 56, 56, 64)   256         conv2d_8[0][0]                   \n",
            "__________________________________________________________________________________________________\n",
            "batch_normalization_9 (BatchNor (None, 56, 56, 64)   256         conv2d_9[0][0]                   \n",
            "__________________________________________________________________________________________________\n",
            "concatenate_2 (Concatenate)     (None, 56, 56, 128)  0           batch_normalization_8[0][0]      \n",
            "                                                                 batch_normalization_9[0][0]      \n",
            "__________________________________________________________________________________________________\n",
            "max_pooling2d_2 (MaxPooling2D)  (None, 28, 28, 128)  0           concatenate_2[0][0]              \n",
            "__________________________________________________________________________________________________\n",
            "conv2d_10 (Conv2D)              (None, 28, 28, 48)   6192        max_pooling2d_2[0][0]            \n",
            "__________________________________________________________________________________________________\n",
            "batch_normalization_10 (BatchNo (None, 28, 28, 48)   192         conv2d_10[0][0]                  \n",
            "__________________________________________________________________________________________________\n",
            "conv2d_11 (Conv2D)              (None, 28, 28, 48)   2352        batch_normalization_10[0][0]     \n",
            "__________________________________________________________________________________________________\n",
            "conv2d_12 (Conv2D)              (None, 28, 28, 48)   20784       batch_normalization_10[0][0]     \n",
            "__________________________________________________________________________________________________\n",
            "batch_normalization_11 (BatchNo (None, 28, 28, 48)   192         conv2d_11[0][0]                  \n",
            "__________________________________________________________________________________________________\n",
            "batch_normalization_12 (BatchNo (None, 28, 28, 48)   192         conv2d_12[0][0]                  \n",
            "__________________________________________________________________________________________________\n",
            "concatenate_3 (Concatenate)     (None, 28, 28, 96)   0           batch_normalization_11[0][0]     \n",
            "                                                                 batch_normalization_12[0][0]     \n",
            "__________________________________________________________________________________________________\n",
            "max_pooling2d_3 (MaxPooling2D)  (None, 14, 14, 96)   0           concatenate_3[0][0]              \n",
            "__________________________________________________________________________________________________\n",
            "conv2d_13 (Conv2D)              (None, 14, 14, 24)   2328        max_pooling2d_3[0][0]            \n",
            "__________________________________________________________________________________________________\n",
            "batch_normalization_13 (BatchNo (None, 14, 14, 24)   96          conv2d_13[0][0]                  \n",
            "__________________________________________________________________________________________________\n",
            "conv2d_14 (Conv2D)              (None, 14, 14, 24)   600         batch_normalization_13[0][0]     \n",
            "__________________________________________________________________________________________________\n",
            "conv2d_15 (Conv2D)              (None, 14, 14, 24)   5208        batch_normalization_13[0][0]     \n",
            "__________________________________________________________________________________________________\n",
            "batch_normalization_14 (BatchNo (None, 14, 14, 24)   96          conv2d_14[0][0]                  \n",
            "__________________________________________________________________________________________________\n",
            "batch_normalization_15 (BatchNo (None, 14, 14, 24)   96          conv2d_15[0][0]                  \n",
            "__________________________________________________________________________________________________\n",
            "concatenate_4 (Concatenate)     (None, 14, 14, 48)   0           batch_normalization_14[0][0]     \n",
            "                                                                 batch_normalization_15[0][0]     \n",
            "__________________________________________________________________________________________________\n",
            "global_average_pooling2d (Globa (None, 48)           0           concatenate_4[0][0]              \n",
            "__________________________________________________________________________________________________\n",
            "dense (Dense)                   (None, 2)            98          global_average_pooling2d[0][0]   \n",
            "==================================================================================================\n",
            "Total params: 120,466\n",
            "Trainable params: 119,154\n",
            "Non-trainable params: 1,312\n",
            "__________________________________________________________________________________________________\n"
          ],
          "name": "stdout"
        }
      ]
    },
    {
      "cell_type": "markdown",
      "metadata": {
        "id": "TpKT2kx4EPnO"
      },
      "source": [
        "## Compile"
      ]
    },
    {
      "cell_type": "code",
      "metadata": {
        "id": "ifAvK2eEEMD_"
      },
      "source": [
        "model.compile(optimizer=Adam(LR), \n",
        "              loss='sparse_categorical_crossentropy',\n",
        "              metrics=['sparse_categorical_accuracy'])"
      ],
      "execution_count": null,
      "outputs": []
    },
    {
      "cell_type": "markdown",
      "metadata": {
        "id": "thaSAZvuERqw"
      },
      "source": [
        "## Callbacks"
      ]
    },
    {
      "cell_type": "code",
      "metadata": {
        "id": "ZR-GzWkbXhTO"
      },
      "source": [
        "model_path = os.path.join(base_output, \"{}_model.h5\".format(model_name))"
      ],
      "execution_count": null,
      "outputs": []
    },
    {
      "cell_type": "code",
      "metadata": {
        "id": "mSIeFF95Ma_t"
      },
      "source": [
        "early_stop = EarlyStopping(monitor='val_sparse_categorical_accuracy', patience=10, verbose=0, mode='max')\n",
        "\n",
        "model_checkpoint = ModelCheckpoint(filepath=model_path, save_best_only=True, monitor='val_loss', mode='min')\n",
        "\n",
        "reduce_lr_rate = ReduceLROnPlateau(monitor='val_loss', factor=0.3, min_lr=1e-7, patience=10, verbose=1, min_delta=1e-4, mode='min')"
      ],
      "execution_count": null,
      "outputs": []
    },
    {
      "cell_type": "markdown",
      "metadata": {
        "id": "kMNtJKFQMbeg"
      },
      "source": [
        "## Training"
      ]
    },
    {
      "cell_type": "code",
      "metadata": {
        "colab": {
          "base_uri": "https://localhost:8080/"
        },
        "id": "dieA1G5CEPDF",
        "outputId": "5591e8ad-fd4a-4a56-8516-40182d2b01df"
      },
      "source": [
        "history = model.fit(train_generator,\n",
        "                    validation_data=val_generator,\n",
        "                    epochs=EPOCHS,\n",
        "                    callbacks=[early_stop, model_checkpoint, reduce_lr_rate],\n",
        "                    verbose=1)"
      ],
      "execution_count": null,
      "outputs": [
        {
          "output_type": "stream",
          "text": [
            "Epoch 1/100\n",
            "43/43 [==============================] - ETA: 0s - batch: 21.0000 - size: 31.6279 - loss: 7.4150 - sparse_categorical_accuracy: 0.6250"
          ],
          "name": "stdout"
        },
        {
          "output_type": "stream",
          "text": [
            "/usr/local/lib/python3.7/dist-packages/tensorflow/python/keras/engine/training.py:2426: UserWarning: `Model.state_updates` will be removed in a future version. This property should not be used in TensorFlow 2.0, as `updates` are applied automatically.\n",
            "  warnings.warn('`Model.state_updates` will be removed in a future version. '\n"
          ],
          "name": "stderr"
        },
        {
          "output_type": "stream",
          "text": [
            "\b\b\b\b\b\b\b\b\b\b\b\b\b\b\b\b\b\b\b\b\b\b\b\b\b\b\b\b\b\b\b\b\b\b\b\b\b\b\b\b\b\b\b\b\b\b\b\b\b\b\b\b\b\b\b\b\b\b\b\b\b\b\b\b\b\b\b\b\b\b\b\b\b\b\b\b\b\b\b\b\b\b\b\b\b\b\b\b\b\b\b\b\b\b\b\b\b\b\b\b\b\b\b\b\b\b\b\b\b\b\b\b\b\b\b\b\b\b\b\b\b\b\b\b\b\b\b\b\b\b\b\b\b\b\r43/43 [==============================] - 129s 2s/step - batch: 21.0000 - size: 31.6279 - loss: 7.4150 - sparse_categorical_accuracy: 0.6250 - val_loss: 7.3713 - val_sparse_categorical_accuracy: 0.6582 - lr: 1.0000e-05\n",
            "Epoch 2/100\n",
            "43/43 [==============================] - 95s 2s/step - batch: 21.0000 - size: 31.6279 - loss: 7.3563 - sparse_categorical_accuracy: 0.6809 - val_loss: 7.2696 - val_sparse_categorical_accuracy: 0.7908 - lr: 1.0000e-05\n",
            "Epoch 3/100\n",
            "43/43 [==============================] - 97s 2s/step - batch: 21.0000 - size: 31.6279 - loss: 7.3191 - sparse_categorical_accuracy: 0.7140 - val_loss: 7.2328 - val_sparse_categorical_accuracy: 0.8112 - lr: 1.0000e-05\n",
            "Epoch 4/100\n",
            "43/43 [==============================] - 97s 2s/step - batch: 21.0000 - size: 31.6279 - loss: 7.2670 - sparse_categorical_accuracy: 0.7382 - val_loss: 7.1563 - val_sparse_categorical_accuracy: 0.8265 - lr: 1.0000e-05\n",
            "Epoch 5/100\n",
            "43/43 [==============================] - 97s 2s/step - batch: 21.0000 - size: 31.6279 - loss: 7.2355 - sparse_categorical_accuracy: 0.7603 - val_loss: 7.1263 - val_sparse_categorical_accuracy: 0.8418 - lr: 1.0000e-05\n",
            "Epoch 6/100\n",
            "43/43 [==============================] - 97s 2s/step - batch: 21.0000 - size: 31.6279 - loss: 7.1935 - sparse_categorical_accuracy: 0.7699 - val_loss: 7.0901 - val_sparse_categorical_accuracy: 0.8980 - lr: 1.0000e-05\n",
            "Epoch 7/100\n",
            "43/43 [==============================] - 96s 2s/step - batch: 21.0000 - size: 31.6279 - loss: 7.1726 - sparse_categorical_accuracy: 0.7890 - val_loss: 7.0504 - val_sparse_categorical_accuracy: 0.9133 - lr: 1.0000e-05\n",
            "Epoch 8/100\n",
            "43/43 [==============================] - 96s 2s/step - batch: 21.0000 - size: 31.6279 - loss: 7.1373 - sparse_categorical_accuracy: 0.8029 - val_loss: 7.0216 - val_sparse_categorical_accuracy: 0.9133 - lr: 1.0000e-05\n",
            "Epoch 9/100\n",
            "43/43 [==============================] - 96s 2s/step - batch: 21.0000 - size: 31.6279 - loss: 7.1050 - sparse_categorical_accuracy: 0.8007 - val_loss: 6.9890 - val_sparse_categorical_accuracy: 0.9184 - lr: 1.0000e-05\n",
            "Epoch 10/100\n",
            "43/43 [==============================] - 97s 2s/step - batch: 21.0000 - size: 31.6279 - loss: 7.0890 - sparse_categorical_accuracy: 0.8140 - val_loss: 6.9751 - val_sparse_categorical_accuracy: 0.9031 - lr: 1.0000e-05\n",
            "Epoch 11/100\n",
            "43/43 [==============================] - 97s 2s/step - batch: 21.0000 - size: 31.6279 - loss: 7.0519 - sparse_categorical_accuracy: 0.8324 - val_loss: 6.9283 - val_sparse_categorical_accuracy: 0.9235 - lr: 1.0000e-05\n",
            "Epoch 12/100\n",
            "43/43 [==============================] - 97s 2s/step - batch: 21.0000 - size: 31.6279 - loss: 7.0298 - sparse_categorical_accuracy: 0.8478 - val_loss: 6.9146 - val_sparse_categorical_accuracy: 0.9133 - lr: 1.0000e-05\n",
            "Epoch 13/100\n",
            "43/43 [==============================] - 97s 2s/step - batch: 21.0000 - size: 31.6279 - loss: 6.9992 - sparse_categorical_accuracy: 0.8419 - val_loss: 6.8925 - val_sparse_categorical_accuracy: 0.9082 - lr: 1.0000e-05\n",
            "Epoch 14/100\n",
            "43/43 [==============================] - 97s 2s/step - batch: 21.0000 - size: 31.6279 - loss: 6.9795 - sparse_categorical_accuracy: 0.8456 - val_loss: 6.8692 - val_sparse_categorical_accuracy: 0.9286 - lr: 1.0000e-05\n",
            "Epoch 15/100\n",
            "43/43 [==============================] - 97s 2s/step - batch: 21.0000 - size: 31.6279 - loss: 6.9601 - sparse_categorical_accuracy: 0.8456 - val_loss: 6.8401 - val_sparse_categorical_accuracy: 0.9337 - lr: 1.0000e-05\n",
            "Epoch 16/100\n",
            "43/43 [==============================] - 97s 2s/step - batch: 21.0000 - size: 31.6279 - loss: 6.9316 - sparse_categorical_accuracy: 0.8493 - val_loss: 6.8209 - val_sparse_categorical_accuracy: 0.9235 - lr: 1.0000e-05\n",
            "Epoch 17/100\n",
            "43/43 [==============================] - 97s 2s/step - batch: 21.0000 - size: 31.6279 - loss: 6.8959 - sparse_categorical_accuracy: 0.8684 - val_loss: 6.7981 - val_sparse_categorical_accuracy: 0.9337 - lr: 1.0000e-05\n",
            "Epoch 18/100\n",
            "43/43 [==============================] - 97s 2s/step - batch: 21.0000 - size: 31.6279 - loss: 6.8893 - sparse_categorical_accuracy: 0.8603 - val_loss: 6.7827 - val_sparse_categorical_accuracy: 0.9184 - lr: 1.0000e-05\n",
            "Epoch 19/100\n",
            "43/43 [==============================] - 96s 2s/step - batch: 21.0000 - size: 31.6279 - loss: 6.8705 - sparse_categorical_accuracy: 0.8551 - val_loss: 6.7430 - val_sparse_categorical_accuracy: 0.9337 - lr: 1.0000e-05\n",
            "Epoch 20/100\n",
            "43/43 [==============================] - 97s 2s/step - batch: 21.0000 - size: 31.6279 - loss: 6.8300 - sparse_categorical_accuracy: 0.8831 - val_loss: 6.7221 - val_sparse_categorical_accuracy: 0.9490 - lr: 1.0000e-05\n",
            "Epoch 21/100\n",
            "43/43 [==============================] - 97s 2s/step - batch: 21.0000 - size: 31.6279 - loss: 6.8172 - sparse_categorical_accuracy: 0.8721 - val_loss: 6.7147 - val_sparse_categorical_accuracy: 0.9235 - lr: 1.0000e-05\n",
            "Epoch 22/100\n",
            "43/43 [==============================] - 97s 2s/step - batch: 21.0000 - size: 31.6279 - loss: 6.7914 - sparse_categorical_accuracy: 0.8809 - val_loss: 6.6897 - val_sparse_categorical_accuracy: 0.9388 - lr: 1.0000e-05\n",
            "Epoch 23/100\n",
            "43/43 [==============================] - 98s 2s/step - batch: 21.0000 - size: 31.6279 - loss: 6.7573 - sparse_categorical_accuracy: 0.8875 - val_loss: 6.6689 - val_sparse_categorical_accuracy: 0.9388 - lr: 1.0000e-05\n",
            "Epoch 24/100\n",
            "43/43 [==============================] - 99s 2s/step - batch: 21.0000 - size: 31.6279 - loss: 6.7504 - sparse_categorical_accuracy: 0.8787 - val_loss: 6.6460 - val_sparse_categorical_accuracy: 0.9286 - lr: 1.0000e-05\n",
            "Epoch 25/100\n",
            "43/43 [==============================] - 99s 2s/step - batch: 21.0000 - size: 31.6279 - loss: 6.7261 - sparse_categorical_accuracy: 0.8853 - val_loss: 6.6354 - val_sparse_categorical_accuracy: 0.9490 - lr: 1.0000e-05\n",
            "Epoch 26/100\n",
            "43/43 [==============================] - 98s 2s/step - batch: 21.0000 - size: 31.6279 - loss: 6.6911 - sparse_categorical_accuracy: 0.9022 - val_loss: 6.6172 - val_sparse_categorical_accuracy: 0.9541 - lr: 1.0000e-05\n",
            "Epoch 27/100\n",
            "43/43 [==============================] - 98s 2s/step - batch: 21.0000 - size: 31.6279 - loss: 6.6753 - sparse_categorical_accuracy: 0.8956 - val_loss: 6.5845 - val_sparse_categorical_accuracy: 0.9592 - lr: 1.0000e-05\n",
            "Epoch 28/100\n",
            "43/43 [==============================] - 96s 2s/step - batch: 21.0000 - size: 31.6279 - loss: 6.6637 - sparse_categorical_accuracy: 0.9066 - val_loss: 6.5707 - val_sparse_categorical_accuracy: 0.9490 - lr: 1.0000e-05\n",
            "Epoch 29/100\n",
            "43/43 [==============================] - 95s 2s/step - batch: 21.0000 - size: 31.6279 - loss: 6.6326 - sparse_categorical_accuracy: 0.9074 - val_loss: 6.5751 - val_sparse_categorical_accuracy: 0.9490 - lr: 1.0000e-05\n",
            "Epoch 30/100\n",
            "43/43 [==============================] - 96s 2s/step - batch: 21.0000 - size: 31.6279 - loss: 6.6348 - sparse_categorical_accuracy: 0.9074 - val_loss: 6.5351 - val_sparse_categorical_accuracy: 0.9592 - lr: 1.0000e-05\n",
            "Epoch 31/100\n",
            "43/43 [==============================] - 97s 2s/step - batch: 21.0000 - size: 31.6279 - loss: 6.5856 - sparse_categorical_accuracy: 0.9257 - val_loss: 6.5171 - val_sparse_categorical_accuracy: 0.9643 - lr: 1.0000e-05\n",
            "Epoch 32/100\n",
            "43/43 [==============================] - 97s 2s/step - batch: 21.0000 - size: 31.6279 - loss: 6.5741 - sparse_categorical_accuracy: 0.9191 - val_loss: 6.5059 - val_sparse_categorical_accuracy: 0.9388 - lr: 1.0000e-05\n",
            "Epoch 33/100\n",
            "43/43 [==============================] - 97s 2s/step - batch: 21.0000 - size: 31.6279 - loss: 6.5737 - sparse_categorical_accuracy: 0.8956 - val_loss: 6.4817 - val_sparse_categorical_accuracy: 0.9541 - lr: 1.0000e-05\n",
            "Epoch 34/100\n",
            "43/43 [==============================] - 98s 2s/step - batch: 21.0000 - size: 31.6279 - loss: 6.5283 - sparse_categorical_accuracy: 0.9176 - val_loss: 6.4797 - val_sparse_categorical_accuracy: 0.9592 - lr: 1.0000e-05\n",
            "Epoch 35/100\n",
            "43/43 [==============================] - 96s 2s/step - batch: 21.0000 - size: 31.6279 - loss: 6.5219 - sparse_categorical_accuracy: 0.9125 - val_loss: 6.4542 - val_sparse_categorical_accuracy: 0.9541 - lr: 1.0000e-05\n",
            "Epoch 36/100\n",
            "43/43 [==============================] - 97s 2s/step - batch: 21.0000 - size: 31.6279 - loss: 6.4921 - sparse_categorical_accuracy: 0.9213 - val_loss: 6.4587 - val_sparse_categorical_accuracy: 0.9439 - lr: 1.0000e-05\n",
            "Epoch 37/100\n",
            "43/43 [==============================] - 97s 2s/step - batch: 21.0000 - size: 31.6279 - loss: 6.4752 - sparse_categorical_accuracy: 0.9213 - val_loss: 6.4283 - val_sparse_categorical_accuracy: 0.9439 - lr: 1.0000e-05\n",
            "Epoch 38/100\n",
            "43/43 [==============================] - 97s 2s/step - batch: 21.0000 - size: 31.6279 - loss: 6.4638 - sparse_categorical_accuracy: 0.9140 - val_loss: 6.4053 - val_sparse_categorical_accuracy: 0.9745 - lr: 1.0000e-05\n",
            "Epoch 39/100\n",
            "43/43 [==============================] - 97s 2s/step - batch: 21.0000 - size: 31.6279 - loss: 6.4548 - sparse_categorical_accuracy: 0.9162 - val_loss: 6.3941 - val_sparse_categorical_accuracy: 0.9694 - lr: 1.0000e-05\n",
            "Epoch 40/100\n",
            "43/43 [==============================] - 96s 2s/step - batch: 21.0000 - size: 31.6279 - loss: 6.4131 - sparse_categorical_accuracy: 0.9287 - val_loss: 6.3751 - val_sparse_categorical_accuracy: 0.9592 - lr: 1.0000e-05\n",
            "Epoch 41/100\n",
            "43/43 [==============================] - 97s 2s/step - batch: 21.0000 - size: 31.6279 - loss: 6.4028 - sparse_categorical_accuracy: 0.9353 - val_loss: 6.3497 - val_sparse_categorical_accuracy: 0.9694 - lr: 1.0000e-05\n",
            "Epoch 42/100\n",
            "43/43 [==============================] - 96s 2s/step - batch: 21.0000 - size: 31.6279 - loss: 6.3942 - sparse_categorical_accuracy: 0.9184 - val_loss: 6.3388 - val_sparse_categorical_accuracy: 0.9439 - lr: 1.0000e-05\n",
            "Epoch 43/100\n",
            "43/43 [==============================] - 96s 2s/step - batch: 21.0000 - size: 31.6279 - loss: 6.3745 - sparse_categorical_accuracy: 0.9324 - val_loss: 6.3478 - val_sparse_categorical_accuracy: 0.9592 - lr: 1.0000e-05\n",
            "Epoch 44/100\n",
            "43/43 [==============================] - 97s 2s/step - batch: 21.0000 - size: 31.6279 - loss: 6.3485 - sparse_categorical_accuracy: 0.9338 - val_loss: 6.2867 - val_sparse_categorical_accuracy: 0.9643 - lr: 1.0000e-05\n",
            "Epoch 45/100\n",
            "43/43 [==============================] - 98s 2s/step - batch: 21.0000 - size: 31.6279 - loss: 6.3490 - sparse_categorical_accuracy: 0.9250 - val_loss: 6.2601 - val_sparse_categorical_accuracy: 0.9694 - lr: 1.0000e-05\n",
            "Epoch 46/100\n",
            "43/43 [==============================] - 97s 2s/step - batch: 21.0000 - size: 31.6279 - loss: 6.3158 - sparse_categorical_accuracy: 0.9324 - val_loss: 6.2413 - val_sparse_categorical_accuracy: 0.9541 - lr: 1.0000e-05\n",
            "Epoch 47/100\n",
            "43/43 [==============================] - 97s 2s/step - batch: 21.0000 - size: 31.6279 - loss: 6.2910 - sparse_categorical_accuracy: 0.9426 - val_loss: 6.2305 - val_sparse_categorical_accuracy: 0.9541 - lr: 1.0000e-05\n",
            "Epoch 48/100\n",
            "43/43 [==============================] - 97s 2s/step - batch: 21.0000 - size: 31.6279 - loss: 6.2796 - sparse_categorical_accuracy: 0.9375 - val_loss: 6.2103 - val_sparse_categorical_accuracy: 0.9643 - lr: 1.0000e-05\n"
          ],
          "name": "stdout"
        }
      ]
    },
    {
      "cell_type": "markdown",
      "metadata": {
        "id": "zlbdanXLEWqQ"
      },
      "source": [
        "# Training Graph"
      ]
    },
    {
      "cell_type": "markdown",
      "metadata": {
        "id": "byToCQjzEYXQ"
      },
      "source": [
        "## Accuracy"
      ]
    },
    {
      "cell_type": "code",
      "metadata": {
        "id": "L7g3pYevEXid",
        "colab": {
          "base_uri": "https://localhost:8080/",
          "height": 513
        },
        "outputId": "e854470a-7ac7-4a0f-efb6-3d986de671a7"
      },
      "source": [
        "plt.figure(figsize=(12, 8))\n",
        "plt.plot(history.history['sparse_categorical_accuracy'])\n",
        "plt.plot(history.history['val_sparse_categorical_accuracy'])\n",
        "plt.ylabel('accuracy')\n",
        "plt.xlabel('epoch')\n",
        "plt.legend(['train', 'val'], loc='upper left')\n",
        "plt.title('accuracy graph {}'.format(model_name))\n",
        "plt.grid()\n",
        "plt.savefig(os.path.join(base_output, '{}_accuracy_graph'.format(model_name)))\n",
        "plt.show()"
      ],
      "execution_count": null,
      "outputs": [
        {
          "output_type": "display_data",
          "data": {
            "image/png": "[encoded data removed]",
            "text/plain": [
              "<Figure size 864x576 with 1 Axes>"
            ]
          },
          "metadata": {
            "tags": [],
            "needs_background": "light"
          }
        }
      ]
    },
    {
      "cell_type": "markdown",
      "metadata": {
        "id": "Vs6OwcrQEt0j"
      },
      "source": [
        "## Loss"
      ]
    },
    {
      "cell_type": "code",
      "metadata": {
        "id": "MRkFaY0WEwpu",
        "colab": {
          "base_uri": "https://localhost:8080/",
          "height": 513
        },
        "outputId": "7d3c5a0f-44a2-4174-ee73-1453e5607423"
      },
      "source": [
        "plt.figure(figsize=(12, 8))\n",
        "plt.plot(history.history['loss'])\n",
        "plt.plot(history.history['val_loss'])\n",
        "plt.ylabel('loss')\n",
        "plt.xlabel('epoch')\n",
        "plt.legend(['train', 'val'], loc='upper left')\n",
        "plt.title('loss graph {}'.format(model_name))\n",
        "plt.grid()\n",
        "plt.savefig(os.path.join(base_output, '{}_loss_graph'.format(model_name)))\n",
        "plt.show()"
      ],
      "execution_count": null,
      "outputs": [
        {
          "output_type": "display_data",
          "data": {
            "image/png": "[encoded data removed]",
            "text/plain": [
              "<Figure size 864x576 with 1 Axes>"
            ]
          },
          "metadata": {
            "tags": [],
            "needs_background": "light"
          }
        }
      ]
    },
    {
      "cell_type": "markdown",
      "metadata": {
        "id": "vTfQapUMEyNc"
      },
      "source": [
        "# Evaluation"
      ]
    },
    {
      "cell_type": "code",
      "metadata": {
        "id": "9qpL-ZRpEzG4"
      },
      "source": [
        "test_model = tf.keras.models.load_model(model_path)"
      ],
      "execution_count": null,
      "outputs": []
    },
    {
      "cell_type": "code",
      "metadata": {
        "id": "e8T5UQAZFE5T"
      },
      "source": [
        "num_test_files = len(test_generator.filenames)"
      ],
      "execution_count": null,
      "outputs": []
    },
    {
      "cell_type": "code",
      "metadata": {
        "id": "5BJnXgt-FG1M"
      },
      "source": [
        "test_generator.reset()"
      ],
      "execution_count": null,
      "outputs": []
    },
    {
      "cell_type": "markdown",
      "metadata": {
        "id": "K0iKAnhZFJag"
      },
      "source": [
        "## Confusion Matrix\n"
      ]
    },
    {
      "cell_type": "code",
      "metadata": {
        "id": "cN8OUy-5FIU4",
        "colab": {
          "base_uri": "https://localhost:8080/"
        },
        "outputId": "58d85876-9dd3-43c2-98b9-676cb1bf1365"
      },
      "source": [
        "test_labels = test_generator.classes\n",
        "predictions = test_model.predict(test_generator, steps=num_test_files//test_generator.batch_size)"
      ],
      "execution_count": null,
      "outputs": [
        {
          "output_type": "stream",
          "text": [
            "/usr/local/lib/python3.7/dist-packages/tensorflow/python/keras/engine/training.py:2426: UserWarning: `Model.state_updates` will be removed in a future version. This property should not be used in TensorFlow 2.0, as `updates` are applied automatically.\n",
            "  warnings.warn('`Model.state_updates` will be removed in a future version. '\n"
          ],
          "name": "stderr"
        }
      ]
    },
    {
      "cell_type": "code",
      "metadata": {
        "id": "az_dKQQzrQRe"
      },
      "source": [
        "cm = confusion_matrix(test_labels, predictions.argmax(axis=1))"
      ],
      "execution_count": null,
      "outputs": []
    },
    {
      "cell_type": "markdown",
      "metadata": {
        "id": "WpcGniOnFPBw"
      },
      "source": [
        "### Without Normalize"
      ]
    },
    {
      "cell_type": "code",
      "metadata": {
        "id": "J4F7lTyqFMd-",
        "colab": {
          "base_uri": "https://localhost:8080/",
          "height": 281
        },
        "outputId": "f3d66b5f-46ec-411d-a607-4e055dc7eef8"
      },
      "source": [
        "plt.title('{} confusionmatrix w/o normalize'.format(model_name))\n",
        "df_cm = pd.DataFrame(cm, categories, categories)\n",
        "sns.set(font_scale=1.4)\n",
        "fig = sns.heatmap(df_cm, annot=True, annot_kws={\"size\": 16}, fmt='g', cmap=\"Blues\")\n",
        "fig.figure.savefig(os.path.join(base_output, '{}_confusionmatrix_wo_normalize'.format(model_name)))"
      ],
      "execution_count": null,
      "outputs": [
        {
          "output_type": "display_data",
          "data": {
            "image/png": "[encoded data removed]",
            "text/plain": [
              "<Figure size 432x288 with 2 Axes>"
            ]
          },
          "metadata": {
            "tags": [],
            "needs_background": "light"
          }
        }
      ]
    },
    {
      "cell_type": "markdown",
      "metadata": {
        "id": "BbYGrCI2FUav"
      },
      "source": [
        "### With Normalize"
      ]
    },
    {
      "cell_type": "code",
      "metadata": {
        "id": "SKD4OsSKultb"
      },
      "source": [
        "cm = confusion_matrix(test_labels, predictions.argmax(axis=1))\n",
        "cm = cm.astype('float') / cm.sum(axis=1)[:, np.newaxis]"
      ],
      "execution_count": null,
      "outputs": []
    },
    {
      "cell_type": "code",
      "metadata": {
        "id": "Rov9JD7yFVDG",
        "colab": {
          "base_uri": "https://localhost:8080/",
          "height": 293
        },
        "outputId": "8531c1d8-2980-44a4-aa5e-10613591ab46"
      },
      "source": [
        "plt.title('{} confusionmatrix w/ normalize'.format(model_name))\n",
        "df_cm = pd.DataFrame(cm, categories, categories)\n",
        "sns.set(font_scale=1.4)\n",
        "fig = sns.heatmap(df_cm, annot=True, annot_kws={\"size\": 16}, fmt='g', cmap=\"Blues\")\n",
        "fig.figure.savefig(os.path.join(base_output, '{}_confusionmatrix_w_normalize'.format(model_name)))"
      ],
      "execution_count": null,
      "outputs": [
        {
          "output_type": "display_data",
          "data": {
            "image/png": "[encoded data removed]",
            "text/plain": [
              "<Figure size 432x288 with 2 Axes>"
            ]
          },
          "metadata": {
            "tags": []
          }
        }
      ]
    },
    {
      "cell_type": "markdown",
      "metadata": {
        "id": "9I91EhTIaSpo"
      },
      "source": [
        "## Classification Report"
      ]
    },
    {
      "cell_type": "code",
      "metadata": {
        "colab": {
          "base_uri": "https://localhost:8080/"
        },
        "id": "IingqnwLaSpp",
        "outputId": "bcfa86f9-f342-495c-b6c2-a97ad32c12a8"
      },
      "source": [
        "y_pred = np.argmax(predictions, axis=1)\n",
        "print('Confusion Matrix {}'.format(model_name))\n",
        "print(confusion_matrix(test_labels, y_pred))\n",
        "print('Classification Report {}'.format(model_name))\n",
        "print(classification_report(test_labels, y_pred, target_names=categories))"
      ],
      "execution_count": null,
      "outputs": [
        {
          "output_type": "stream",
          "text": [
            "Confusion Matrix binary_squeezenet\n",
            "[[248  24]\n",
            " [  7 113]]\n",
            "Classification Report binary_squeezenet\n",
            "              precision    recall  f1-score   support\n",
            "\n",
            "   cancerpmd       0.97      0.91      0.94       272\n",
            "      normal       0.82      0.94      0.88       120\n",
            "\n",
            "    accuracy                           0.92       392\n",
            "   macro avg       0.90      0.93      0.91       392\n",
            "weighted avg       0.93      0.92      0.92       392\n",
            "\n"
          ],
          "name": "stdout"
        }
      ]
    },
    {
      "cell_type": "markdown",
      "metadata": {
        "id": "I-6m8AMIzlVf"
      },
      "source": [
        "## TP FP FN TN"
      ]
    },
    {
      "cell_type": "code",
      "metadata": {
        "id": "TvQy1LvKz0aP"
      },
      "source": [
        "cm_2 = confusion_matrix(test_labels, y_pred)"
      ],
      "execution_count": null,
      "outputs": []
    },
    {
      "cell_type": "markdown",
      "metadata": {
        "id": "wXsTTISqzx2q"
      },
      "source": [
        "### TP"
      ]
    },
    {
      "cell_type": "code",
      "metadata": {
        "id": "temqT846zor7"
      },
      "source": [
        "TruePositive= np.diag(cm_2)"
      ],
      "execution_count": null,
      "outputs": []
    },
    {
      "cell_type": "code",
      "metadata": {
        "id": "GzVWg1yQz7Xk",
        "colab": {
          "base_uri": "https://localhost:8080/"
        },
        "outputId": "c6bc4105-3b0f-4448-fda9-041f7b2fc27b"
      },
      "source": [
        "print(TruePositive)\n",
        "sumTruePositive = sum(TruePositive)\n",
        "print('Sum of True Positive: ', sumTruePositive)"
      ],
      "execution_count": null,
      "outputs": [
        {
          "output_type": "stream",
          "text": [
            "[248 113]\n",
            "Sum of True Positive:  361\n"
          ],
          "name": "stdout"
        }
      ]
    },
    {
      "cell_type": "markdown",
      "metadata": {
        "id": "PcrzFA940j8_"
      },
      "source": [
        "### FP"
      ]
    },
    {
      "cell_type": "code",
      "metadata": {
        "id": "63SaJOAI0nQ5"
      },
      "source": [
        "FalsePositive = []\n",
        "for i in range(NUM_CLASSES):\n",
        "    FalsePositive.append(sum(cm_2[:,i]) - cm_2[i,i])"
      ],
      "execution_count": null,
      "outputs": []
    },
    {
      "cell_type": "code",
      "metadata": {
        "id": "kFNnVvDb0qZZ",
        "colab": {
          "base_uri": "https://localhost:8080/"
        },
        "outputId": "3f244c53-7962-48e3-acc2-8f5c74ff0f3e"
      },
      "source": [
        "print(FalsePositive)\n",
        "sumFalsePositive = sum(FalsePositive)\n",
        "print('Sum of False Positive: ', sumFalsePositive)"
      ],
      "execution_count": null,
      "outputs": [
        {
          "output_type": "stream",
          "text": [
            "[7, 24]\n",
            "Sum of False Positive:  31\n"
          ],
          "name": "stdout"
        }
      ]
    },
    {
      "cell_type": "markdown",
      "metadata": {
        "id": "Arvl86myz23m"
      },
      "source": [
        "### FN"
      ]
    },
    {
      "cell_type": "code",
      "metadata": {
        "id": "GuiGFj6Bz51n"
      },
      "source": [
        "FalseNegative = []\n",
        "for i in range(NUM_CLASSES):\n",
        "    FalseNegative.append(sum(cm_2[i,:]) - cm_2[i,i])"
      ],
      "execution_count": null,
      "outputs": []
    },
    {
      "cell_type": "code",
      "metadata": {
        "id": "5JoMFzhK08Ih",
        "colab": {
          "base_uri": "https://localhost:8080/"
        },
        "outputId": "911f8d0b-f273-4968-c35a-54472acd443b"
      },
      "source": [
        "print(FalseNegative)\n",
        "sumFalseNegative = sum(FalseNegative)\n",
        "print('Sum of False Negative: ', sumFalseNegative)"
      ],
      "execution_count": null,
      "outputs": [
        {
          "output_type": "stream",
          "text": [
            "[24, 7]\n",
            "Sum of False Negative:  31\n"
          ],
          "name": "stdout"
        }
      ]
    },
    {
      "cell_type": "markdown",
      "metadata": {
        "id": "LbBhCaW50i41"
      },
      "source": [
        "### TN"
      ]
    },
    {
      "cell_type": "code",
      "metadata": {
        "id": "InyzOGoQ15Sn"
      },
      "source": [
        "TrueNegative = []\n",
        "for i in range(NUM_CLASSES):\n",
        "    temp = np.delete(cm_2, i, 0)   # delete ith row\n",
        "    temp = np.delete(temp, i, 1)  # delete ith column\n",
        "    TrueNegative.append(sum(sum(temp)))"
      ],
      "execution_count": null,
      "outputs": []
    },
    {
      "cell_type": "code",
      "metadata": {
        "id": "E-gsj4kd8O7W",
        "colab": {
          "base_uri": "https://localhost:8080/"
        },
        "outputId": "525e5fe1-cc9d-496f-8f8a-8b8b2ff5a247"
      },
      "source": [
        "print(TrueNegative)\n",
        "sumTrueNegative = sum(TrueNegative)\n",
        "print('Sum of True Negative: ', sumTrueNegative)"
      ],
      "execution_count": null,
      "outputs": [
        {
          "output_type": "stream",
          "text": [
            "[113, 248]\n",
            "Sum of True Negative:  361\n"
          ],
          "name": "stdout"
        }
      ]
    },
    {
      "cell_type": "markdown",
      "metadata": {
        "id": "QHporRqx3153"
      },
      "source": [
        "### Check TP + FP + FN + TN = Test set"
      ]
    },
    {
      "cell_type": "code",
      "metadata": {
        "id": "woGIGiJq32Ju",
        "colab": {
          "base_uri": "https://localhost:8080/"
        },
        "outputId": "708e8a5d-82b6-4c7b-87e9-0f882fa6c638"
      },
      "source": [
        "l = len(test_labels)\n",
        "for i in range(NUM_CLASSES):\n",
        "    print(TruePositive[i] + FalsePositive[i] + FalseNegative[i] + TrueNegative[i] == l)"
      ],
      "execution_count": null,
      "outputs": [
        {
          "output_type": "stream",
          "text": [
            "True\n",
            "True\n"
          ],
          "name": "stdout"
        }
      ]
    },
    {
      "cell_type": "markdown",
      "metadata": {
        "id": "HQcLh0qBXYox"
      },
      "source": [
        "## PYCM"
      ]
    },
    {
      "cell_type": "code",
      "metadata": {
        "id": "of6EK7cBH4ZH",
        "colab": {
          "base_uri": "https://localhost:8080/"
        },
        "outputId": "745eb5f4-24c7-4c7b-b386-d8a3aa7089a0"
      },
      "source": [
        "!pip3 install pycm==3.0 "
      ],
      "execution_count": null,
      "outputs": [
        {
          "output_type": "stream",
          "text": [
            "Collecting pycm==3.0\n",
            "  Downloading pycm-3.0-py2.py3-none-any.whl (61 kB)\n",
            "\u001b[K     |████████████████████████████████| 61 kB 632 kB/s \n",
            "\u001b[?25hCollecting art>=1.8\n",
            "  Downloading art-5.2-py2.py3-none-any.whl (571 kB)\n",
            "\u001b[K     |████████████████████████████████| 571 kB 13.8 MB/s \n",
            "\u001b[?25hRequirement already satisfied: numpy>=1.9.0 in /usr/local/lib/python3.7/dist-packages (from pycm==3.0) (1.19.5)\n",
            "Installing collected packages: art, pycm\n",
            "Successfully installed art-5.2 pycm-3.0\n"
          ],
          "name": "stdout"
        }
      ]
    },
    {
      "cell_type": "code",
      "metadata": {
        "id": "f3af2PaoID14"
      },
      "source": [
        "from pycm import *"
      ],
      "execution_count": null,
      "outputs": []
    },
    {
      "cell_type": "code",
      "metadata": {
        "id": "MbFq_zl1SukZ"
      },
      "source": [
        "test_labels = test_generator.classes"
      ],
      "execution_count": null,
      "outputs": []
    },
    {
      "cell_type": "code",
      "metadata": {
        "id": "DppqLjymH7d1"
      },
      "source": [
        "py_cm = ConfusionMatrix(actual_vector=test_labels, predict_vector=y_pred)"
      ],
      "execution_count": null,
      "outputs": []
    },
    {
      "cell_type": "code",
      "metadata": {
        "id": "jynkLA94H-Ea",
        "colab": {
          "base_uri": "https://localhost:8080/"
        },
        "outputId": "a1d80e51-e26f-47d5-eaa9-b1531031c7fd"
      },
      "source": [
        "py_cm.classes"
      ],
      "execution_count": null,
      "outputs": [
        {
          "output_type": "execute_result",
          "data": {
            "text/plain": [
              "[0, 1]"
            ]
          },
          "metadata": {
            "tags": []
          },
          "execution_count": 25
        }
      ]
    },
    {
      "cell_type": "code",
      "metadata": {
        "id": "4RO4KeeqH_rd",
        "colab": {
          "base_uri": "https://localhost:8080/"
        },
        "outputId": "3a454d27-86a3-48bb-f2a8-d34cd053cea8"
      },
      "source": [
        "py_cm.table"
      ],
      "execution_count": null,
      "outputs": [
        {
          "output_type": "execute_result",
          "data": {
            "text/plain": [
              "{0: {0: 248, 1: 24}, 1: {0: 7, 1: 113}}"
            ]
          },
          "metadata": {
            "tags": []
          },
          "execution_count": 30
        }
      ]
    },
    {
      "cell_type": "markdown",
      "metadata": {
        "id": "vH7Ig9ILZ29A"
      },
      "source": [
        "### Sensitivity"
      ]
    },
    {
      "cell_type": "code",
      "metadata": {
        "id": "pW_SxFf1jSuE"
      },
      "source": [
        "AV_Sens = (py_cm.TPR[0] + py_cm.TPR[1])/len(py_cm.TPR)"
      ],
      "execution_count": null,
      "outputs": []
    },
    {
      "cell_type": "code",
      "metadata": {
        "id": "egYEm3eZjTyi",
        "colab": {
          "base_uri": "https://localhost:8080/"
        },
        "outputId": "7a8b0fc6-cecc-40d7-c6ff-ed194ec5b885"
      },
      "source": [
        "print('Sensitivity of', categories[0], py_cm.TPR[0])\n",
        "print('Sensitivity of', categories[1], py_cm.TPR[1])\n",
        "print('Average Sensitivity: ', AV_Sens)"
      ],
      "execution_count": null,
      "outputs": [
        {
          "output_type": "stream",
          "text": [
            "Sensitivity of cancerpmd 0.9117647058823529\n",
            "Sensitivity of normal 0.9416666666666667\n",
            "Average Sensitivity:  0.9267156862745098\n"
          ],
          "name": "stdout"
        }
      ]
    },
    {
      "cell_type": "markdown",
      "metadata": {
        "id": "Xf7lQab8Z29B"
      },
      "source": [
        "### Specificity"
      ]
    },
    {
      "cell_type": "code",
      "metadata": {
        "id": "Ku9lMjcIXxoz"
      },
      "source": [
        "AV_Spec = (py_cm.TNR[0] + py_cm.TNR[1])/len(py_cm.TNR)"
      ],
      "execution_count": null,
      "outputs": []
    },
    {
      "cell_type": "code",
      "metadata": {
        "colab": {
          "base_uri": "https://localhost:8080/"
        },
        "id": "RBJ9Q77zW4Fk",
        "outputId": "99ceebe5-b753-4b94-b981-22baafc4829e"
      },
      "source": [
        "print('Specificity of', categories[0], py_cm.TNR[0])\n",
        "print('Specificity of', categories[1], py_cm.TNR[1])\n",
        "print('Average Specificity: ', AV_Spec)"
      ],
      "execution_count": null,
      "outputs": [
        {
          "output_type": "stream",
          "text": [
            "Specificity of cancerpmd 0.9416666666666667\n",
            "Specificity of normal 0.9117647058823529\n",
            "Average Specificity:  0.9267156862745098\n"
          ],
          "name": "stdout"
        }
      ]
    },
    {
      "cell_type": "markdown",
      "metadata": {
        "id": "q2pnPEtpjqMO"
      },
      "source": [
        "## Curve"
      ]
    },
    {
      "cell_type": "markdown",
      "metadata": {
        "id": "5-OVp0k-UHiD"
      },
      "source": [
        "### Receiver Operating Characteristic curve\n",
        "from: https://www.analyticsvidhya.com/blog/2020/06/auc-roc-curve-machine-learning/"
      ]
    },
    {
      "cell_type": "code",
      "metadata": {
        "id": "Etu6Jrv2UG4T"
      },
      "source": [
        "from sklearn.metrics import roc_curve\n",
        "from sklearn.metrics import auc"
      ],
      "execution_count": null,
      "outputs": []
    },
    {
      "cell_type": "code",
      "metadata": {
        "id": "0LHUsm8-2sLH",
        "colab": {
          "base_uri": "https://localhost:8080/",
          "height": 549
        },
        "outputId": "7f396409-9f09-4956-b0e2-8bbfac4bad0e"
      },
      "source": [
        "fpr = {}\n",
        "tpr = {}\n",
        "thresh ={}\n",
        "roc_auc_list = []\n",
        "\n",
        "plt.figure(figsize=(12, 8))\n",
        "for i in range(NUM_CLASSES):    \n",
        "    fpr[i], tpr[i], thresh[i] = roc_curve(test_generator.classes, predictions[:,i], pos_label=i)\n",
        "    roc_auc = auc(fpr[i], tpr[i])\n",
        "    roc_auc_list.append(roc_auc)\n",
        "    plt.plot(fpr[i], tpr[i], lw=2, label='{} (area = %0.2f)'.format(categories[i]) % roc_auc)\n",
        "plt.title('{} Receiver Operating Characteristic curve'.format(model_name))\n",
        "plt.xlabel('False Positive Rate')\n",
        "plt.ylabel('True Positive rate')\n",
        "plt.legend(loc='best')\n",
        "plt.savefig(os.path.join(base_output, '{}_roc_curve'.format(model_name)))\n",
        "\n",
        "av_roc_auc = sum(roc_auc_list) / len(roc_auc_list)\n",
        "print('Average Receiver Operating Characteristic AUC: ', av_roc_auc)"
      ],
      "execution_count": null,
      "outputs": [
        {
          "output_type": "stream",
          "text": [
            "Average Receiver Operating Characteristic AUC:  0.9840379901960785\n"
          ],
          "name": "stdout"
        },
        {
          "output_type": "display_data",
          "data": {
            "image/png": "[encoded data removed]",
            "text/plain": [
              "<Figure size 864x576 with 1 Axes>"
            ]
          },
          "metadata": {
            "tags": []
          }
        }
      ]
    },
    {
      "cell_type": "markdown",
      "metadata": {
        "id": "o2s8LCC7sZcL"
      },
      "source": [
        "### Precision-Recall curve\n",
        "from: https://stackoverflow.com/a/56092736/9956949"
      ]
    },
    {
      "cell_type": "code",
      "metadata": {
        "id": "UK0fLEwls0um"
      },
      "source": [
        "from sklearn.metrics import precision_recall_curve\n",
        "from sklearn.metrics import f1_score"
      ],
      "execution_count": null,
      "outputs": []
    },
    {
      "cell_type": "code",
      "metadata": {
        "id": "Ci_dJkXyDLTe",
        "colab": {
          "base_uri": "https://localhost:8080/",
          "height": 549
        },
        "outputId": "56070307-ae1b-468b-9fd3-bcd6467ba55f"
      },
      "source": [
        "precision = {}\n",
        "recall = {}\n",
        "pr_auc_list = []\n",
        "\n",
        "plt.figure(figsize=(12, 8))\n",
        "for i in range(NUM_CLASSES):\n",
        "    precision[i], recall[i], _ = precision_recall_curve(test_generator.classes, predictions[:,i], pos_label=i)\n",
        "    pr_auc = auc(recall[i], precision[i])\n",
        "    pr_auc_list.append(pr_auc)\n",
        "    plt.plot(recall[i], precision[i], lw=2, label='{} (area = %0.2f)'.format(categories[i]) % pr_auc)\n",
        "plt.xlabel(\"Recall\")\n",
        "plt.ylabel(\"Precision\")\n",
        "plt.legend(loc=\"best\")\n",
        "plt.title(\"{} Precision-Recall curve\".format(model_name))\n",
        "plt.savefig(os.path.join(base_output, '{}_pr_curve'.format(model_name)))\n",
        "\n",
        "av_pr_auc = sum(pr_auc_list) / len(pr_auc_list)\n",
        "print('Average Precision-Recall AUC: ', av_pr_auc)"
      ],
      "execution_count": null,
      "outputs": [
        {
          "output_type": "stream",
          "text": [
            "Average Precision-Recall AUC:  0.9799128097548435\n"
          ],
          "name": "stdout"
        },
        {
          "output_type": "display_data",
          "data": {
            "image/png": "[encoded data removed]",
            "text/plain": [
              "<Figure size 864x576 with 1 Axes>"
            ]
          },
          "metadata": {
            "tags": []
          }
        }
      ]
    },
    {
      "cell_type": "markdown",
      "metadata": {
        "id": "zUonwhzMFia7"
      },
      "source": [
        "## Grad-CAM"
      ]
    },
    {
      "cell_type": "code",
      "metadata": {
        "id": "tdnRutcHFgPk"
      },
      "source": [
        "last_conv2d = 'conv2d_15'"
      ],
      "execution_count": null,
      "outputs": []
    },
    {
      "cell_type": "code",
      "metadata": {
        "id": "LatJdxMmxI-I"
      },
      "source": [
        "def load_image(path, preprocess=True):\n",
        "    \"\"\"Load and preprocess image.\"\"\"\n",
        "    x = image.load_img(path, target_size=(IMG_HEIGHT, IMG_WIDTH))\n",
        "    if preprocess:\n",
        "        x = image.img_to_array(x)\n",
        "        x = np.expand_dims(x, axis=0)\n",
        "        x = preprocess_input(x)\n",
        "    return x"
      ],
      "execution_count": null,
      "outputs": []
    },
    {
      "cell_type": "code",
      "metadata": {
        "id": "NRjl1lcyxLRp"
      },
      "source": [
        "def normalize(x):\n",
        "    \"\"\"Utility function to normalize a tensor by its L2 norm\"\"\"\n",
        "    return (x + 1e-10) / (K.sqrt(K.mean(K.square(x))) + 1e-10)"
      ],
      "execution_count": null,
      "outputs": []
    },
    {
      "cell_type": "code",
      "metadata": {
        "id": "u_ZzVdg1xLXn"
      },
      "source": [
        "def deprocess_image(x):\n",
        "    \"\"\"Same normalization as in:\n",
        "    https://github.com/fchollet/keras/blob/master/examples/conv_filter_visualization.py\n",
        "    \"\"\"\n",
        "    x = x.copy()\n",
        "    if np.ndim(x) > 3:\n",
        "        x = np.squeeze(x)\n",
        "    # normalize tensor: center on 0., ensure std is 0.1\n",
        "    x -= x.mean()\n",
        "    x /= (x.std() + 1e-5)\n",
        "    x *= 0.1\n",
        "    # clip to [0, 1]\n",
        "    x += 0.5\n",
        "    x = np.clip(x, 0, 1)\n",
        "    # convert to RGB array\n",
        "    x *= 255\n",
        "    if tf.keras.backend.image_data_format() == 'th':\n",
        "        x = x.transpose((1, 2, 0))\n",
        "    x = np.clip(x, 0, 255).astype('uint8')\n",
        "    return x"
      ],
      "execution_count": null,
      "outputs": []
    },
    {
      "cell_type": "code",
      "metadata": {
        "id": "z_IbeyeL2tUu"
      },
      "source": [
        "def my_decode_predictions(preds, top=3, class_list_path='/content/deeplearning-ca-dataset-2/binary_index.json'):\n",
        "    if len(preds.shape) != 2 or preds.shape[1] != 3:\n",
        "        raise ValueError('`my_decode_predictions` expects '\n",
        "                     'a batch of predictions '\n",
        "                     '(i.e. a 2D array of shape (samples, 1000)). '\n",
        "                     'Found array with shape: ' + str(preds.shape))\n",
        "    CLASS_INDEX = json.load(open(class_list_path))\n",
        "    results = []\n",
        "    for pred in preds:\n",
        "        top_indices = pred.argsort()[-top:][::-1]\n",
        "        result = [tuple(CLASS_INDEX[str(i)]) + (pred[i],) for i in top_indices]\n",
        "        result.sort(key=lambda x: x[2], reverse=True)\n",
        "        results.append(result)\n",
        "    return results"
      ],
      "execution_count": null,
      "outputs": []
    },
    {
      "cell_type": "code",
      "metadata": {
        "id": "uhGUSZ1RxZcb"
      },
      "source": [
        "def guided_backprop(input_model, images, layer_name):\n",
        "    \"\"\"Guided Backpropagation method for visualizing input saliency.\"\"\"\n",
        "    input_imgs = input_model.input\n",
        "    layer_output = input_model.get_layer(layer_name).output\n",
        "    grads = tf.gradients(layer_output, input_imgs)[0]\n",
        "    backprop_fn = K.function([input_imgs, K.learning_phase()], [grads])\n",
        "    grads_val = backprop_fn([images, 0])[0]\n",
        "    return grads_val"
      ],
      "execution_count": null,
      "outputs": []
    },
    {
      "cell_type": "code",
      "metadata": {
        "id": "R7afZ2Rlxbn-"
      },
      "source": [
        "def grad_cam(input_model, image, cls, layer_name):\n",
        "    \"\"\"GradCAM method for visualizing input saliency.\"\"\"\n",
        "    y_c = input_model.output[0, cls]\n",
        "    conv_output = input_model.get_layer(layer_name).output\n",
        "    grads = tf.gradients(y_c, conv_output)[0]\n",
        "    # Normalize if necessary\n",
        "    # grads = normalize(grads)\n",
        "    gradient_function = K.function([input_model.input], [conv_output, grads])\n",
        "    output, grads_val = gradient_function([image])\n",
        "    output, grads_val = output[0, :], grads_val[0, :, :, :]\n",
        "    weights = np.mean(grads_val, axis=(0, 1))\n",
        "    cam = np.dot(output, weights)\n",
        "    # Process CAM\n",
        "    cam = cv2.resize(cam, (IMG_WIDTH, IMG_HEIGHT), cv2.INTER_LINEAR)\n",
        "    cam = np.maximum(cam, 0)\n",
        "    cam = cam / cam.max()\n",
        "    return cam"
      ],
      "execution_count": null,
      "outputs": []
    },
    {
      "cell_type": "code",
      "metadata": {
        "id": "iTEKONDsxdyf"
      },
      "source": [
        "def grad_cam_batch(input_model, images, classes, layer_name):\n",
        "    \"\"\"GradCAM method for visualizing input saliency.\n",
        "    Same as grad_cam but processes binaryple images in one run.\"\"\"\n",
        "    loss = tf.gather_nd(input_model.output, np.dstack([range(images.shape[0]), classes])[0])\n",
        "    layer_output = input_model.get_layer(layer_name).output\n",
        "    grads = tf.gradients(loss, layer_output)[0]\n",
        "    gradient_fn = K.function([input_model.input, K.learning_phase()], [layer_output, grads])\n",
        "    conv_output, grads_val = gradient_fn([images, 0])    \n",
        "    weights = np.mean(grads_val, axis=(1, 2))\n",
        "    cams = np.einsum('ijkl,il->ijk', conv_output, weights)\n",
        "    # Process CAMs\n",
        "    new_cams = np.empty((images.shape[0], IMG_HEIGHT, IMG_WIDTH))\n",
        "    for i in range(new_cams.shape[0]):\n",
        "        cam_i = cams[i] - cams[i].mean()\n",
        "        cam_i = (cam_i + 1e-10) / (np.linalg.norm(cam_i, 2) + 1e-10)\n",
        "        new_cams[i] = cv2.resize(cam_i, (IMG_WIDTH, IMG_HEIGHT), cv2.INTER_LINEAR)\n",
        "        new_cams[i] = np.maximum(new_cams[i], 0)\n",
        "        new_cams[i] = new_cams[i] / new_cams[i].max()\n",
        "    return new_cams"
      ],
      "execution_count": null,
      "outputs": []
    },
    {
      "cell_type": "code",
      "metadata": {
        "id": "0NqdcSlMxGFc"
      },
      "source": [
        "def compute_saliency(model, guided_model, img_path, layer_name=None, cls=-1, visualize=True, save=True):\n",
        "    \"\"\"Compute saliency using all three approaches.\n",
        "        -layer_name: layer to compute gradients;\n",
        "        -cls: class number to localize (-1 for most probable class).\n",
        "    \"\"\"\n",
        "    preprocessed_input = load_image(img_path)\n",
        "    predictions = model.predict(preprocessed_input)\n",
        "    top_n = 5\n",
        "    top = my_decode_predictions(predictions, top=top_n)[0]\n",
        "    classes = np.argsort(predictions[0])[-top_n:][::-1]\n",
        "    print('Model prediction:')\n",
        "    for c, p in zip(classes, top):\n",
        "        print('\\t{:15s}\\t({})\\twith probability {:.3f}'.format(p[1], c, p[2]))\n",
        "    if cls == -1:\n",
        "        cls = np.argmax(predictions)\n",
        "    class_name = my_decode_predictions(np.eye(1, 3, cls))[0][0][1]\n",
        "    print(\"Explanation for '{}'\".format(class_name))  \n",
        "    gradcam = grad_cam(model, preprocessed_input, cls, layer_name)\n",
        "    gb = guided_backprop(guided_model, preprocessed_input, layer_name)\n",
        "    guided_gradcam = gb * gradcam[..., np.newaxis]\n",
        "    if save:\n",
        "        jetcam = cv2.applyColorMap(np.uint8(255 * gradcam), cv2.COLORMAP_JET)\n",
        "        jetcam = (np.float32(jetcam) + load_image(img_path, preprocess=False)) / 2\n",
        "        cv2.imwrite('gradcam_{}.jpg'.format(img_path), np.uint8(jetcam))\n",
        "        cv2.imwrite('guided_backprop_{}.jpg'.format(img_path), deprocess_image(gb[0]))\n",
        "        cv2.imwrite('guided_gradcam_{}.jpg'.format(img_path), deprocess_image(guided_gradcam[0]))\n",
        "    if visualize:\n",
        "        plt.figure(figsize=(15, 10))\n",
        "        plt.subplot(131)\n",
        "        plt.title('GradCAM of {}'.format(img_path))\n",
        "        plt.axis('off')\n",
        "        plt.imshow(load_image(img_path, preprocess=False))\n",
        "        plt.imshow(gradcam, cmap='jet', alpha=0.5)\n",
        "        plt.subplot(132)\n",
        "        plt.title('Guided Backprop of {}'.format(img_path))\n",
        "        plt.axis('off')\n",
        "        plt.imshow(np.flip(deprocess_image(gb[0]), -1))\n",
        "        plt.subplot(133)\n",
        "        plt.title('Guided GradCAM of {}'.format(img_path))\n",
        "        plt.axis('off')\n",
        "        plt.imshow(np.flip(deprocess_image(guided_gradcam[0]), -1))\n",
        "        plt.show()      \n",
        "    return gradcam, gb, guided_gradcam"
      ],
      "execution_count": null,
      "outputs": []
    },
    {
      "cell_type": "markdown",
      "metadata": {
        "id": "E7_HVUjhj3f9"
      },
      "source": [
        "### Cancer"
      ]
    },
    {
      "cell_type": "code",
      "metadata": {
        "id": "-jjJ8Qzpj7bg",
        "colab": {
          "base_uri": "https://localhost:8080/",
          "height": 324
        },
        "outputId": "433b82b9-be18-4af5-adcc-67bde7a6b00c"
      },
      "source": [
        "cancer_img = '/content/deeplearning-ca-dataset-2/image/cancer/Cancer_A_4_U5QEvnm_augment2.jpg'\n",
        "gradcam, gb, guided_gradcam = compute_saliency(test_model, test_model, cancer_img, layer_name=last_conv2d)"
      ],
      "execution_count": null,
      "outputs": [
        {
          "output_type": "error",
          "ename": "ValueError",
          "evalue": "ignored",
          "traceback": [
            "\u001b[0;31m---------------------------------------------------------------------------\u001b[0m",
            "\u001b[0;31mValueError\u001b[0m                                Traceback (most recent call last)",
            "\u001b[0;32m<ipython-input-57-e0bab23ab918>\u001b[0m in \u001b[0;36m<module>\u001b[0;34m()\u001b[0m\n\u001b[1;32m      1\u001b[0m \u001b[0mcancer_img\u001b[0m \u001b[0;34m=\u001b[0m \u001b[0;34m'/content/deeplearning-ca-dataset-2/image/cancer/Cancer_A_4_U5QEvnm_augment2.jpg'\u001b[0m\u001b[0;34m\u001b[0m\u001b[0;34m\u001b[0m\u001b[0m\n\u001b[0;32m----> 2\u001b[0;31m \u001b[0mgradcam\u001b[0m\u001b[0;34m,\u001b[0m \u001b[0mgb\u001b[0m\u001b[0;34m,\u001b[0m \u001b[0mguided_gradcam\u001b[0m \u001b[0;34m=\u001b[0m \u001b[0mcompute_saliency\u001b[0m\u001b[0;34m(\u001b[0m\u001b[0mtest_model\u001b[0m\u001b[0;34m,\u001b[0m \u001b[0mtest_model\u001b[0m\u001b[0;34m,\u001b[0m \u001b[0mcancer_img\u001b[0m\u001b[0;34m,\u001b[0m \u001b[0mlayer_name\u001b[0m\u001b[0;34m=\u001b[0m\u001b[0mlast_conv2d\u001b[0m\u001b[0;34m)\u001b[0m\u001b[0;34m\u001b[0m\u001b[0;34m\u001b[0m\u001b[0m\n\u001b[0m",
            "\u001b[0;32m<ipython-input-56-85665a1136f8>\u001b[0m in \u001b[0;36mcompute_saliency\u001b[0;34m(model, guided_model, img_path, layer_name, cls, visualize, save)\u001b[0m\n\u001b[1;32m      7\u001b[0m     \u001b[0mpredictions\u001b[0m \u001b[0;34m=\u001b[0m \u001b[0mmodel\u001b[0m\u001b[0;34m.\u001b[0m\u001b[0mpredict\u001b[0m\u001b[0;34m(\u001b[0m\u001b[0mpreprocessed_input\u001b[0m\u001b[0;34m)\u001b[0m\u001b[0;34m\u001b[0m\u001b[0;34m\u001b[0m\u001b[0m\n\u001b[1;32m      8\u001b[0m     \u001b[0mtop_n\u001b[0m \u001b[0;34m=\u001b[0m \u001b[0;36m5\u001b[0m\u001b[0;34m\u001b[0m\u001b[0;34m\u001b[0m\u001b[0m\n\u001b[0;32m----> 9\u001b[0;31m     \u001b[0mtop\u001b[0m \u001b[0;34m=\u001b[0m \u001b[0mmy_decode_predictions\u001b[0m\u001b[0;34m(\u001b[0m\u001b[0mpredictions\u001b[0m\u001b[0;34m,\u001b[0m \u001b[0mtop\u001b[0m\u001b[0;34m=\u001b[0m\u001b[0mtop_n\u001b[0m\u001b[0;34m)\u001b[0m\u001b[0;34m[\u001b[0m\u001b[0;36m0\u001b[0m\u001b[0;34m]\u001b[0m\u001b[0;34m\u001b[0m\u001b[0;34m\u001b[0m\u001b[0m\n\u001b[0m\u001b[1;32m     10\u001b[0m     \u001b[0mclasses\u001b[0m \u001b[0;34m=\u001b[0m \u001b[0mnp\u001b[0m\u001b[0;34m.\u001b[0m\u001b[0margsort\u001b[0m\u001b[0;34m(\u001b[0m\u001b[0mpredictions\u001b[0m\u001b[0;34m[\u001b[0m\u001b[0;36m0\u001b[0m\u001b[0;34m]\u001b[0m\u001b[0;34m)\u001b[0m\u001b[0;34m[\u001b[0m\u001b[0;34m-\u001b[0m\u001b[0mtop_n\u001b[0m\u001b[0;34m:\u001b[0m\u001b[0;34m]\u001b[0m\u001b[0;34m[\u001b[0m\u001b[0;34m:\u001b[0m\u001b[0;34m:\u001b[0m\u001b[0;34m-\u001b[0m\u001b[0;36m1\u001b[0m\u001b[0;34m]\u001b[0m\u001b[0;34m\u001b[0m\u001b[0;34m\u001b[0m\u001b[0m\n\u001b[1;32m     11\u001b[0m     \u001b[0mprint\u001b[0m\u001b[0;34m(\u001b[0m\u001b[0;34m'Model prediction:'\u001b[0m\u001b[0;34m)\u001b[0m\u001b[0;34m\u001b[0m\u001b[0;34m\u001b[0m\u001b[0m\n",
            "\u001b[0;32m<ipython-input-52-92b42a1affe4>\u001b[0m in \u001b[0;36mmy_decode_predictions\u001b[0;34m(preds, top, class_list_path)\u001b[0m\n\u001b[1;32m      4\u001b[0m                      \u001b[0;34m'a batch of predictions '\u001b[0m\u001b[0;34m\u001b[0m\u001b[0;34m\u001b[0m\u001b[0m\n\u001b[1;32m      5\u001b[0m                      \u001b[0;34m'(i.e. a 2D array of shape (samples, 1000)). '\u001b[0m\u001b[0;34m\u001b[0m\u001b[0;34m\u001b[0m\u001b[0m\n\u001b[0;32m----> 6\u001b[0;31m                      'Found array with shape: ' + str(preds.shape))\n\u001b[0m\u001b[1;32m      7\u001b[0m     \u001b[0mCLASS_INDEX\u001b[0m \u001b[0;34m=\u001b[0m \u001b[0mjson\u001b[0m\u001b[0;34m.\u001b[0m\u001b[0mload\u001b[0m\u001b[0;34m(\u001b[0m\u001b[0mopen\u001b[0m\u001b[0;34m(\u001b[0m\u001b[0mclass_list_path\u001b[0m\u001b[0;34m)\u001b[0m\u001b[0;34m)\u001b[0m\u001b[0;34m\u001b[0m\u001b[0;34m\u001b[0m\u001b[0m\n\u001b[1;32m      8\u001b[0m     \u001b[0mresults\u001b[0m \u001b[0;34m=\u001b[0m \u001b[0;34m[\u001b[0m\u001b[0;34m]\u001b[0m\u001b[0;34m\u001b[0m\u001b[0;34m\u001b[0m\u001b[0m\n",
            "\u001b[0;31mValueError\u001b[0m: `my_decode_predictions` expects a batch of predictions (i.e. a 2D array of shape (samples, 1000)). Found array with shape: (1, 2)"
          ]
        }
      ]
    },
    {
      "cell_type": "markdown",
      "metadata": {
        "id": "xQSd7XXABckZ"
      },
      "source": [
        "### Normal"
      ]
    },
    {
      "cell_type": "code",
      "metadata": {
        "id": "wLlFr7wZAsHP"
      },
      "source": [
        "normal_img = '/content/deeplearning-ca-dataset-2/image/normal/normal-0.jpg'\n",
        "gradcam, gb, guided_gradcam = compute_saliency(test_model, test_model, normal_img, layer_name=last_conv2d)"
      ],
      "execution_count": null,
      "outputs": []
    },
    {
      "cell_type": "markdown",
      "metadata": {
        "id": "hl-7vcViFqpa"
      },
      "source": [
        "### PMD"
      ]
    },
    {
      "cell_type": "code",
      "metadata": {
        "id": "5mFjojto8QHB"
      },
      "source": [
        "pmd_img = '/content/deeplearning-ca-dataset-2/image/pmd/PMD_A_3.jpg'\n",
        "gradcam, gb, guided_gradcam = compute_saliency(test_model, test_model, pmd_img, layer_name=last_conv2d)"
      ],
      "execution_count": null,
      "outputs": []
    },
    {
      "cell_type": "markdown",
      "metadata": {
        "id": "7_X4BIH0f2r4"
      },
      "source": [
        "# Download Model"
      ]
    },
    {
      "cell_type": "code",
      "metadata": {
        "id": "sGa5YNPvffsp"
      },
      "source": [
        "from google.colab import files"
      ],
      "execution_count": null,
      "outputs": []
    },
    {
      "cell_type": "code",
      "metadata": {
        "id": "ZyHK_WWnrBqT",
        "colab": {
          "base_uri": "https://localhost:8080/",
          "height": 35
        },
        "outputId": "9eaf65ce-d10f-480e-955a-d24aec40943a"
      },
      "source": [
        "shutil.move(base_output, \"/content/\") "
      ],
      "execution_count": null,
      "outputs": [
        {
          "output_type": "execute_result",
          "data": {
            "application/vnd.google.colaboratory.intrinsic+json": {
              "type": "string"
            },
            "text/plain": [
              "'/content/binary_squeezenet_result'"
            ]
          },
          "metadata": {
            "tags": []
          },
          "execution_count": 59
        }
      ]
    },
    {
      "cell_type": "code",
      "metadata": {
        "id": "R2LEydFwqYAn",
        "colab": {
          "base_uri": "https://localhost:8080/"
        },
        "outputId": "93780564-92f0-41b5-868f-76aa5332eb72"
      },
      "source": [
        "!zip -r /content/binary_squeezenet_result.zip /content/binary_squeezenet_result"
      ],
      "execution_count": null,
      "outputs": [
        {
          "output_type": "stream",
          "text": [
            "  adding: content/binary_squeezenet_result/ (stored 0%)\n",
            "  adding: content/binary_squeezenet_result/binary_squeezenet_loss_graph.png (deflated 7%)\n",
            "  adding: content/binary_squeezenet_result/binary_squeezenet_accuracy_graph.png (deflated 6%)\n",
            "  adding: content/binary_squeezenet_result/binary_squeezenet_confusionmatrix_wo_normalize.png (deflated 9%)\n",
            "  adding: content/binary_squeezenet_result/binary_squeezenet_confusionmatrix_w_normalize.png (deflated 6%)\n",
            "  adding: content/binary_squeezenet_result/binary_squeezenet_model.h5 (deflated 23%)\n",
            "  adding: content/binary_squeezenet_result/binary_squeezenet_pr_curve.png (deflated 12%)\n",
            "  adding: content/binary_squeezenet_result/binary_squeezenet_roc_curve.png (deflated 15%)\n"
          ],
          "name": "stdout"
        }
      ]
    },
    {
      "cell_type": "code",
      "metadata": {
        "id": "-ec8GpMIpXC7",
        "colab": {
          "base_uri": "https://localhost:8080/",
          "height": 17
        },
        "outputId": "e31f9845-05d2-4109-e979-c22d9b1b141f"
      },
      "source": [
        "files.download('/content/binary_squeezenet_result.zip')"
      ],
      "execution_count": null,
      "outputs": [
        {
          "output_type": "display_data",
          "data": {
            "application/javascript": [
              "\n",
              "    async function download(id, filename, size) {\n",
              "      if (!google.colab.kernel.accessAllowed) {\n",
              "        return;\n",
              "      }\n",
              "      const div = document.createElement('div');\n",
              "      const label = document.createElement('label');\n",
              "      label.textContent = `Downloading \"${filename}\": `;\n",
              "      div.appendChild(label);\n",
              "      const progress = document.createElement('progress');\n",
              "      progress.max = size;\n",
              "      div.appendChild(progress);\n",
              "      document.body.appendChild(div);\n",
              "\n",
              "      const buffers = [];\n",
              "      let downloaded = 0;\n",
              "\n",
              "      const channel = await google.colab.kernel.comms.open(id);\n",
              "      // Send a message to notify the kernel that we're ready.\n",
              "      channel.send({})\n",
              "\n",
              "      for await (const message of channel.messages) {\n",
              "        // Send a message to notify the kernel that we're ready.\n",
              "        channel.send({})\n",
              "        if (message.buffers) {\n",
              "          for (const buffer of message.buffers) {\n",
              "            buffers.push(buffer);\n",
              "            downloaded += buffer.byteLength;\n",
              "            progress.value = downloaded;\n",
              "          }\n",
              "        }\n",
              "      }\n",
              "      const blob = new Blob(buffers, {type: 'application/binary'});\n",
              "      const a = document.createElement('a');\n",
              "      a.href = window.URL.createObjectURL(blob);\n",
              "      a.download = filename;\n",
              "      div.appendChild(a);\n",
              "      a.click();\n",
              "      div.remove();\n",
              "    }\n",
              "  "
            ],
            "text/plain": [
              "<IPython.core.display.Javascript object>"
            ]
          },
          "metadata": {
            "tags": []
          }
        },
        {
          "output_type": "display_data",
          "data": {
            "application/javascript": [
              "download(\"download_92d9c32d-fbe0-4d7c-8bc7-ae2d1032ccc9\", \"binary_squeezenet_result.zip\", 1504082)"
            ],
            "text/plain": [
              "<IPython.core.display.Javascript object>"
            ]
          },
          "metadata": {
            "tags": []
          }
        }
      ]
    },
    {
      "cell_type": "code",
      "metadata": {
        "id": "IlFMyAVE4GFj"
      },
      "source": [
        ""
      ],
      "execution_count": null,
      "outputs": []
    }
  ]
}